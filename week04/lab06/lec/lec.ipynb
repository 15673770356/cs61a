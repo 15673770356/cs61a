{
 "cells": [
  {
   "cell_type": "markdown",
   "metadata": {},
   "source": [
    "### 迭代器的两个重点\n",
    "- 能够检索下一个元素\n",
    "- 到达序列末尾，发出信号"
   ]
  },
  {
   "cell_type": "code",
   "execution_count": 1,
   "metadata": {},
   "outputs": [
    {
     "ename": "SyntaxError",
     "evalue": "invalid syntax (1066665403.py, line 3)",
     "output_type": "error",
     "traceback": [
      "\u001b[1;36m  Cell \u001b[1;32mIn[1], line 3\u001b[1;36m\u001b[0m\n\u001b[1;33m    <class 'list'>\u001b[0m\n\u001b[1;37m    ^\u001b[0m\n\u001b[1;31mSyntaxError\u001b[0m\u001b[1;31m:\u001b[0m invalid syntax\n"
     ]
    }
   ],
   "source": [
    ">>> primes = [2, 3, 5, 7]\n",
    ">>> type(primes)\n",
    "<class 'list'>\n",
    ">>> iterator = iter(primes)\n",
    ">>> type(iterator)\n",
    "<class 'list-iterator'>\n",
    ">>> next(iterator)\n",
    "2\n",
    ">>> next(iterator)\n",
    "3\n",
    ">>> next(iterator)\n",
    "5"
   ]
  },
  {
   "cell_type": "code",
   "execution_count": 24,
   "metadata": {},
   "outputs": [
    {
     "data": {
      "text/plain": [
       "(2, 5)"
      ]
     },
     "execution_count": 24,
     "metadata": {},
     "output_type": "execute_result"
    }
   ],
   "source": [
    "class Tree:\n",
    "    \"\"\"\n",
    "    >>> t = Tree(3, [Tree(2, [Tree(5)]), Tree(4)])\n",
    "    >>> t.label\n",
    "    3\n",
    "    >>> t.branches[0].label\n",
    "    2\n",
    "    >>> t.branches[1].is_leaf()\n",
    "    True\n",
    "    \"\"\"\n",
    "    def __init__(self, label, branches=[]):\n",
    "        for b in branches:\n",
    "            assert isinstance(b, Tree)\n",
    "        self.label = label\n",
    "        self.branches = list(branches)\n",
    "\n",
    "    def is_leaf(self):\n",
    "        return not self.branches\n",
    "\n",
    "    def tree_value(self):\n",
    "        # 将一棵树的所有节点的值汇成一张list\n",
    "        value = [self.label]\n",
    "        for b in self.branches:\n",
    "            value.extend(b.tree_value())\n",
    "        return value\n",
    "\n",
    "    def bst_min(self):\n",
    "        \"\"\"\n",
    "        返回树的最小值\n",
    "        \"\"\"\n",
    "        value = self.tree_value()\n",
    "        return min(value)\n",
    "\n",
    "    def bst_max(self):\n",
    "        \"\"\"\n",
    "        返回树的最大值\n",
    "        \"\"\"\n",
    "        value = self.tree_value()\n",
    "        return max(value)\n",
    "\n",
    "# 测试代码\n",
    "t = Tree(3, [Tree(2, [Tree(5)]), Tree(4)])\n",
    "min_value = t.bst_min()\n",
    "max_value = t.bst_max()\n",
    "\n",
    "min_value, max_value\n"
   ]
  },
  {
   "cell_type": "code",
   "execution_count": 3,
   "metadata": {},
   "outputs": [],
   "source": [
    "def time_per_word(words, timestamps_per_player):\n",
    "    \"\"\"Return two values: the list of words that the players are typing and\n",
    "    a list of lists that stores the durations it took each player to type each word.\n",
    "\n",
    "    Arguments:\n",
    "        words: a list of words, in the order they are typed.\n",
    "        TIMESTAMPS_PER_PLAYER: A list of lists of timestamps including the time\n",
    "                          the player started typing, followed by the time\n",
    "                          the player finished typing each word.\n",
    "\n",
    "\n",
    "    >>> p = [[75, 81, 84, 90, 92], [19, 29, 35, 36, 38]]\n",
    "    >>> words, times = time_per_word(['collar', 'plush', 'blush', 'repute'], p)\n",
    "    >>> words\n",
    "    ['collar', 'plush', 'blush', 'repute']\n",
    "    >>> times\n",
    "    [[6, 3, 6, 2], [10, 6, 1, 2]]\n",
    "    \"\"\"\n",
    "    # BEGIN PROBLEM 9\n",
    "    \"*** YOUR CODE HERE ***\"\n",
    "    # 对一个list内的元素进行计算和修改  , 使之建立一个新表为times\n",
    "    times = []\n",
    "    i = 0 \n",
    "    while i < len(timestamps_per_player):\n",
    "        j = 1 # 跳过第一个 \n",
    "        while j < len(timestamps_per_player[i]) : \n",
    "            time = timestamps_per_player[i][j] - timestamps_per_player[i][j - 1 ]\n",
    "            j+= 1\n",
    "            times[i].append(time)\n",
    "        i += 1 \n",
    "    return words,times\n"
   ]
  },
  {
   "cell_type": "code",
   "execution_count": 4,
   "metadata": {},
   "outputs": [
    {
     "ename": "IndexError",
     "evalue": "list index out of range",
     "output_type": "error",
     "traceback": [
      "\u001b[1;31m---------------------------------------------------------------------------\u001b[0m",
      "\u001b[1;31mIndexError\u001b[0m                                Traceback (most recent call last)",
      "Cell \u001b[1;32mIn[4], line 2\u001b[0m\n\u001b[0;32m      1\u001b[0m p \u001b[38;5;241m=\u001b[39m [[\u001b[38;5;241m75\u001b[39m, \u001b[38;5;241m81\u001b[39m, \u001b[38;5;241m84\u001b[39m, \u001b[38;5;241m90\u001b[39m, \u001b[38;5;241m92\u001b[39m], [\u001b[38;5;241m19\u001b[39m, \u001b[38;5;241m29\u001b[39m, \u001b[38;5;241m35\u001b[39m, \u001b[38;5;241m36\u001b[39m, \u001b[38;5;241m38\u001b[39m]]\n\u001b[1;32m----> 2\u001b[0m words, times \u001b[38;5;241m=\u001b[39m \u001b[43mtime_per_word\u001b[49m\u001b[43m(\u001b[49m\u001b[43m[\u001b[49m\u001b[38;5;124;43m'\u001b[39;49m\u001b[38;5;124;43mcollar\u001b[39;49m\u001b[38;5;124;43m'\u001b[39;49m\u001b[43m,\u001b[49m\u001b[43m \u001b[49m\u001b[38;5;124;43m'\u001b[39;49m\u001b[38;5;124;43mplush\u001b[39;49m\u001b[38;5;124;43m'\u001b[39;49m\u001b[43m,\u001b[49m\u001b[43m \u001b[49m\u001b[38;5;124;43m'\u001b[39;49m\u001b[38;5;124;43mblush\u001b[39;49m\u001b[38;5;124;43m'\u001b[39;49m\u001b[43m,\u001b[49m\u001b[43m \u001b[49m\u001b[38;5;124;43m'\u001b[39;49m\u001b[38;5;124;43mrepute\u001b[39;49m\u001b[38;5;124;43m'\u001b[39;49m\u001b[43m]\u001b[49m\u001b[43m,\u001b[49m\u001b[43m \u001b[49m\u001b[43mp\u001b[49m\u001b[43m)\u001b[49m\n\u001b[0;32m      3\u001b[0m words\n",
      "Cell \u001b[1;32mIn[3], line 29\u001b[0m, in \u001b[0;36mtime_per_word\u001b[1;34m(words, timestamps_per_player)\u001b[0m\n\u001b[0;32m     27\u001b[0m         time \u001b[38;5;241m=\u001b[39m timestamps_per_player[i][j] \u001b[38;5;241m-\u001b[39m timestamps_per_player[i][j \u001b[38;5;241m-\u001b[39m \u001b[38;5;241m1\u001b[39m ]\n\u001b[0;32m     28\u001b[0m         j\u001b[38;5;241m+\u001b[39m\u001b[38;5;241m=\u001b[39m \u001b[38;5;241m1\u001b[39m\n\u001b[1;32m---> 29\u001b[0m         \u001b[43mtimes\u001b[49m\u001b[43m[\u001b[49m\u001b[43mi\u001b[49m\u001b[43m]\u001b[49m\u001b[38;5;241m.\u001b[39mappend(time)\n\u001b[0;32m     30\u001b[0m     i \u001b[38;5;241m+\u001b[39m\u001b[38;5;241m=\u001b[39m \u001b[38;5;241m1\u001b[39m \n\u001b[0;32m     31\u001b[0m \u001b[38;5;28;01mreturn\u001b[39;00m words,times\n",
      "\u001b[1;31mIndexError\u001b[0m: list index out of range"
     ]
    }
   ],
   "source": [
    "    >>> p = [[75, 81, 84, 90, 92], [19, 29, 35, 36, 38]]\n",
    "    >>> words, times = time_per_word(['collar', 'plush', 'blush', 'repute'], p)\n",
    "    >>> words"
   ]
  },
  {
   "cell_type": "code",
   "execution_count": 17,
   "metadata": {},
   "outputs": [
    {
     "data": {
      "text/plain": [
       "1"
      ]
     },
     "execution_count": 17,
     "metadata": {},
     "output_type": "execute_result"
    }
   ],
   "source": [
    "class Tree:\n",
    "    \"\"\"\n",
    "    >>> t = Tree(3, [Tree(2, [Tree(5)]), Tree(4)])\n",
    "    >>> t.label\n",
    "    3\n",
    "    >>> t.branches[0].label\n",
    "    2\n",
    "    >>> t.branches[1].is_leaf()\n",
    "    True\n",
    "    \"\"\"\n",
    "    def __init__(self, label, branches=[]):\n",
    "        for b in branches:\n",
    "            assert isinstance(b, Tree)\n",
    "        self.label = label\n",
    "        self.branches = list(branches)\n",
    "\n",
    "    def is_leaf(self):\n",
    "        return not self.branches\n",
    "t = Tree(1, [Tree(2)])\n",
    "t.label\n"
   ]
  },
  {
   "cell_type": "code",
   "execution_count": 24,
   "metadata": {},
   "outputs": [
    {
     "data": {
      "text/plain": [
       "'<__main__.Tree object at 0x0000024BC9306150>'"
      ]
     },
     "execution_count": 24,
     "metadata": {},
     "output_type": "execute_result"
    }
   ],
   "source": [
    "t.label = t.branches[0].label\n",
    "t.branches[0].label\n",
    "str(t)\n"
   ]
  },
  {
   "cell_type": "code",
   "execution_count": 25,
   "metadata": {},
   "outputs": [
    {
     "data": {
      "text/plain": [
       "18.3"
      ]
     },
     "execution_count": 25,
     "metadata": {},
     "output_type": "execute_result"
    }
   ],
   "source": [
    "183 /10 "
   ]
  },
  {
   "cell_type": "code",
   "execution_count": 30,
   "metadata": {},
   "outputs": [
    {
     "data": {
      "text/plain": [
       "18"
      ]
     },
     "execution_count": 30,
     "metadata": {},
     "output_type": "execute_result"
    }
   ],
   "source": [
    "183 //10"
   ]
  },
  {
   "cell_type": "code",
   "execution_count": 31,
   "metadata": {},
   "outputs": [],
   "source": [
    "def double_eights(n):\n",
    "    \"\"\" Returns whether or not n has two digits in row that\n",
    "    are the number 8. Assume n has at least two digits in it.\n",
    "\n",
    "    >>> double_eights(1288)\n",
    "    True\n",
    "    >>> double_eights(880)\n",
    "    True\n",
    "    >>> double_eights(538835)\n",
    "    True\n",
    "    >>> double_eights(284682)\n",
    "    False\n",
    "    >>> double_eights(588138)\n",
    "    True\n",
    "    >>> double_eights(78)\n",
    "    False\n",
    "    >>> from construct_check import check\n",
    "    >>> # ban iteration\n",
    "    >>> check(LAB_SOURCE_FILE, 'double_eights', ['While', 'For'])\n",
    "    True\n",
    "    \"\"\"\n",
    "    \"*** YOUR CODE HERE ***\"\n",
    "    # 每次只取两个数，然后向前每次进1\n",
    "    num = n % 100\n",
    "    if num == 88 :\n",
    "        return True\n",
    "\n",
    "    if n < 10:\n",
    "        return False\n",
    "\n",
    "    double_eights(     n // 10   )\n"
   ]
  },
  {
   "cell_type": "code",
   "execution_count": 32,
   "metadata": {},
   "outputs": [
    {
     "data": {
      "text/plain": [
       "True"
      ]
     },
     "execution_count": 32,
     "metadata": {},
     "output_type": "execute_result"
    }
   ],
   "source": [
    "double_eights(1288)"
   ]
  },
  {
   "cell_type": "code",
   "execution_count": 33,
   "metadata": {},
   "outputs": [],
   "source": [
    "double_eights(78)"
   ]
  },
  {
   "cell_type": "code",
   "execution_count": 37,
   "metadata": {},
   "outputs": [
    {
     "ename": "IndexError",
     "evalue": "string index out of range",
     "output_type": "error",
     "traceback": [
      "\u001b[1;31m---------------------------------------------------------------------------\u001b[0m",
      "\u001b[1;31mIndexError\u001b[0m                                Traceback (most recent call last)",
      "Cell \u001b[1;32mIn[37], line 2\u001b[0m\n\u001b[0;32m      1\u001b[0m a \u001b[38;5;241m=\u001b[39m \u001b[38;5;124m'\u001b[39m\u001b[38;5;124mfsdfsdf\u001b[39m\u001b[38;5;124m'\u001b[39m\n\u001b[1;32m----> 2\u001b[0m \u001b[43ma\u001b[49m\u001b[43m[\u001b[49m\u001b[38;5;241;43m44\u001b[39;49m\u001b[43m]\u001b[49m\n",
      "\u001b[1;31mIndexError\u001b[0m: string index out of range"
     ]
    }
   ],
   "source": [
    "a = 'fsdfsdf'\n",
    "a[44]"
   ]
  },
  {
   "cell_type": "code",
   "execution_count": null,
   "metadata": {},
   "outputs": [],
   "source": []
  }
 ],
 "metadata": {
  "kernelspec": {
   "display_name": "Python 3",
   "language": "python",
   "name": "python3"
  },
  "language_info": {
   "codemirror_mode": {
    "name": "ipython",
    "version": 3
   },
   "file_extension": ".py",
   "mimetype": "text/x-python",
   "name": "python",
   "nbconvert_exporter": "python",
   "pygments_lexer": "ipython3",
   "version": "3.11.9"
  }
 },
 "nbformat": 4,
 "nbformat_minor": 2
}
