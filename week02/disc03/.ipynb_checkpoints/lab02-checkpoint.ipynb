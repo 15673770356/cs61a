{
 "cells": [
  {
   "cell_type": "code",
   "execution_count": 1,
   "id": "fe3aa552-622d-4683-9f84-3c998916a34d",
   "metadata": {},
   "outputs": [
    {
     "data": {
      "text/plain": [
       "False"
      ]
     },
     "execution_count": 1,
     "metadata": {},
     "output_type": "execute_result"
    }
   ],
   "source": [
    "not 10"
   ]
  },
  {
   "cell_type": "code",
   "execution_count": 2,
   "id": "58bedd17-fa73-465c-9f2e-924f6899b5bf",
   "metadata": {},
   "outputs": [
    {
     "name": "stdout",
     "output_type": "stream",
     "text": [
      "3\n"
     ]
    },
    {
     "data": {
      "text/plain": [
       "''"
      ]
     },
     "execution_count": 2,
     "metadata": {},
     "output_type": "execute_result"
    }
   ],
   "source": [
    "print(3) or \"\""
   ]
  },
  {
   "cell_type": "code",
   "execution_count": 3,
   "id": "7701b9ba-ec59-4499-92f7-a1aa4bb3441e",
   "metadata": {},
   "outputs": [],
   "source": [
    "def cake():\n",
    "    print('beets')\n",
    "    def pie():\n",
    "        print('sweets')\n",
    "        return 'cake'\n",
    "    return pie"
   ]
  },
  {
   "cell_type": "code",
   "execution_count": 4,
   "id": "2f70a6d3-23fa-458a-a854-211a0a6b76b9",
   "metadata": {},
   "outputs": [
    {
     "name": "stdout",
     "output_type": "stream",
     "text": [
      "beets\n"
     ]
    }
   ],
   "source": [
    "chocolate = cake()"
   ]
  },
  {
   "cell_type": "code",
   "execution_count": 5,
   "id": "7943e316-4e3c-49a9-97f2-d5e2bea6cd4e",
   "metadata": {},
   "outputs": [
    {
     "name": "stdout",
     "output_type": "stream",
     "text": [
      "sweets\n"
     ]
    },
    {
     "data": {
      "text/plain": [
       "'cake'"
      ]
     },
     "execution_count": 5,
     "metadata": {},
     "output_type": "execute_result"
    }
   ],
   "source": [
    "chocolate()"
   ]
  },
  {
   "cell_type": "code",
   "execution_count": 6,
   "id": "22260eaf-1cca-4461-b1ca-496d99dcced3",
   "metadata": {},
   "outputs": [
    {
     "name": "stdout",
     "output_type": "stream",
     "text": [
      "sweets\n"
     ]
    }
   ],
   "source": [
    "more_chocolate, more_cake = chocolate(), cake"
   ]
  },
  {
   "cell_type": "code",
   "execution_count": 7,
   "id": "b467aae6-91a7-4e54-91f6-cbd975fc77cd",
   "metadata": {},
   "outputs": [],
   "source": [
    "def snake(x, y):\n",
    "    if cake == more_cake:\n",
    "        return chocolate\n",
    "    else:\n",
    "        return x + y"
   ]
  },
  {
   "cell_type": "code",
   "execution_count": 8,
   "id": "479d75eb-9d0a-495c-850d-b48a3af0c286",
   "metadata": {},
   "outputs": [
    {
     "data": {
      "text/plain": [
       "<function __main__.cake.<locals>.pie()>"
      ]
     },
     "execution_count": 8,
     "metadata": {},
     "output_type": "execute_result"
    }
   ],
   "source": [
    "snake(10,20)"
   ]
  },
  {
   "cell_type": "code",
   "execution_count": null,
   "id": "0830073b-01da-4cae-a93f-53943923d111",
   "metadata": {},
   "outputs": [],
   "source": []
  }
 ],
 "metadata": {
  "kernelspec": {
   "display_name": "Python 3 (ipykernel)",
   "language": "python",
   "name": "python3"
  },
  "language_info": {
   "codemirror_mode": {
    "name": "ipython",
    "version": 3
   },
   "file_extension": ".py",
   "mimetype": "text/x-python",
   "name": "python",
   "nbconvert_exporter": "python",
   "pygments_lexer": "ipython3",
   "version": "3.11.9"
  }
 },
 "nbformat": 4,
 "nbformat_minor": 5
}
