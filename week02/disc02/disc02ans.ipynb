{
 "cells": [
  {
   "cell_type": "code",
   "execution_count": 10,
   "id": "06dcf4c4-1a34-4c84-b055-e39ad8c8746d",
   "metadata": {},
   "outputs": [],
   "source": [
    "\n",
    "\"\"\"\n",
    "python -m doctest digit_finder.py\n",
    "实现 find_digit，它接受正整数 k 并返回一个函数，该函数接受正整数 x 并返回 x 右侧的第 k 位数字。\n",
    "如果 x 的位数少于 k，则返回 0。\n",
    "例如，在数字 4567 中，7 是右起第 1 位数字，6 是右起第 2 位数字，右起第 5 位数字是 0（因为有只有 4 位数字）。\n",
    "重要提示：您不能使用字符串或索引来解决此问题。尝试仅使用一行来解决此问题。\n",
    "\"\"\"\n",
    "\n",
    "def find_digit(k):\n",
    "    \"\"\"Returns a function that returns the kth digit of x.\n",
    "    >>> find_digit(2)(3456)\n",
    "    5\n",
    "    >>> find_digit(2)(5678)\n",
    "    7\n",
    "    >>> find_digit(1)(10)\n",
    "    0\n",
    "    >>> find_digit(4)(789)\n",
    "    0\n",
    "    \"\"\"\n",
    "    assert k > 0  \n",
    "    \"*** YOUR CODE HERE ***\"\n",
    "    return lambda  num :  (num // 10 ** (k-1) ) % 10  \n",
    "\n"
   ]
  },
  {
   "cell_type": "code",
   "execution_count": 11,
   "id": "a89e9a25-844e-4562-a8da-5e5a3279e643",
   "metadata": {},
   "outputs": [
    {
     "data": {
      "text/plain": [
       "5"
      ]
     },
     "execution_count": 11,
     "metadata": {},
     "output_type": "execute_result"
    }
   ],
   "source": [
    "find_digit(2)(3456)"
   ]
  },
  {
   "cell_type": "code",
   "execution_count": 29,
   "id": "c1e5ca61-ff2e-4163-b245-def787a59ff3",
   "metadata": {},
   "outputs": [],
   "source": [
    "def match_k(k):\n",
    "    \"\"\"Returns a function that checks if digits k apart match.\n",
    "\n",
    "    >>> match_k(2)(1010)\n",
    "    True\n",
    "    >>> match_k(2)(2010)\n",
    "    False\n",
    "    >>> match_k(1)(1010)\n",
    "    False\n",
    "    >>> match_k(1)(1)\n",
    "    True\n",
    "    >>> match_k(1)(2111111111111111)\n",
    "    False\n",
    "    >>> match_k(3)(123123)\n",
    "    True\n",
    "    >>> match_k(2)(123123)\n",
    "    False\n",
    "    \"\"\"\n",
    "    # 先判断k的次数是不是大于整个数字的位数  \n",
    "    # 每次比较之后 往后移动\n",
    "    def check(x):\n",
    "        while x // (10 ** k) > 0:\n",
    "            if (x % 10) != (x // (10 ** k)) % 10:\n",
    "                return False\n",
    "            x //= 10\n",
    "        return True\n",
    "    return check\n"
   ]
  },
  {
   "cell_type": "code",
   "execution_count": 30,
   "id": "1e8d9d26-5fb9-4df1-bbe0-835656f932fe",
   "metadata": {},
   "outputs": [
    {
     "data": {
      "text/plain": [
       "False"
      ]
     },
     "execution_count": 30,
     "metadata": {},
     "output_type": "execute_result"
    }
   ],
   "source": [
    " match_k(3)(123123)"
   ]
  },
  {
   "cell_type": "code",
   "execution_count": null,
   "id": "f1f99143-ee83-4bc4-95a4-0bb6cd847a5f",
   "metadata": {},
   "outputs": [],
   "source": []
  }
 ],
 "metadata": {
  "kernelspec": {
   "display_name": "Python 3 (ipykernel)",
   "language": "python",
   "name": "python3"
  },
  "language_info": {
   "codemirror_mode": {
    "name": "ipython",
    "version": 3
   },
   "file_extension": ".py",
   "mimetype": "text/x-python",
   "name": "python",
   "nbconvert_exporter": "python",
   "pygments_lexer": "ipython3",
   "version": "3.11.9"
  }
 },
 "nbformat": 4,
 "nbformat_minor": 5
}
