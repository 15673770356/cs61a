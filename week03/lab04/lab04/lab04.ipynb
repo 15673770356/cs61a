{
 "cells": [
  {
   "cell_type": "code",
   "execution_count": 1,
   "metadata": {},
   "outputs": [
    {
     "data": {
      "text/plain": [
       "2"
      ]
     },
     "execution_count": 1,
     "metadata": {},
     "output_type": "execute_result"
    }
   ],
   "source": [
    "s = [7//3, 5, [4, 0, 1], 2]\n",
    "s[-1]"
   ]
  },
  {
   "cell_type": "code",
   "execution_count": 2,
   "metadata": {},
   "outputs": [
    {
     "data": {
      "text/plain": [
       "[4, 0, 1]"
      ]
     },
     "execution_count": 2,
     "metadata": {},
     "output_type": "execute_result"
    }
   ],
   "source": [
    "s[-2]"
   ]
  },
  {
   "cell_type": "code",
   "execution_count": 4,
   "metadata": {},
   "outputs": [
    {
     "data": {
      "text/plain": [
       "[3, 4, 5]"
      ]
     },
     "execution_count": 4,
     "metadata": {},
     "output_type": "execute_result"
    }
   ],
   "source": [
    "list(range(3, 6))"
   ]
  },
  {
   "cell_type": "code",
   "execution_count": 5,
   "metadata": {},
   "outputs": [
    {
     "data": {
      "text/plain": [
       "range(3, 6)"
      ]
     },
     "execution_count": 5,
     "metadata": {},
     "output_type": "execute_result"
    }
   ],
   "source": [
    "range(3, 6)"
   ]
  },
  {
   "cell_type": "code",
   "execution_count": 6,
   "metadata": {},
   "outputs": [
    {
     "data": {
      "text/plain": [
       "[0, 1, 2, 3]"
      ]
     },
     "execution_count": 6,
     "metadata": {},
     "output_type": "execute_result"
    }
   ],
   "source": [
    "list(range(4))"
   ]
  },
  {
   "cell_type": "code",
   "execution_count": 18,
   "metadata": {},
   "outputs": [],
   "source": [
    "def flatten(s):\n",
    "    \"\"\"Returns a flattened version of list s.\n",
    "\n",
    "    >>> flatten([1, 2, 3])\n",
    "    [1, 2, 3]\n",
    "    >>> deep = [1, [[2], 3], 4, [5, 6]]\n",
    "    >>> flatten(deep)\n",
    "    [1, 2, 3, 4, 5, 6]\n",
    "    >>> deep                                # input list is unchanged\n",
    "    [1, [[2], 3], 4, [5, 6]]\n",
    "    >>> very_deep = [['m', ['i', ['n', ['m', 'e', ['w', 't', ['a'], 't', 'i', 'o'], 'n']], 's']]]\n",
    "    >>> flatten(very_deep)\n",
    "    ['m', 'i', 'n', 'm', 'e', 'w', 't', 'a', 't', 'i', 'o', 'n', 's']\n",
    "    \"\"\"\n",
    "    \"*** YOUR CODE HERE ***\"\n",
    "    # 对每个元素进行判断\n",
    "        # 如果是单个，就直接加入\n",
    "        # 如果是嵌套 ， 进入嵌套，逐个打开，最后加入 。\n",
    "    # 使用递归\n",
    "    def flat(s, result):\n",
    "        for i in s:\n",
    "            if isinstance(i, list):\n",
    "                flat(i, result)\n",
    "            else:\n",
    "                result.append(i)\n",
    "        return result\n",
    "\n",
    "    return flat(s, [])\n"
   ]
  },
  {
   "cell_type": "code",
   "execution_count": 19,
   "metadata": {},
   "outputs": [
    {
     "data": {
      "text/plain": [
       "[1, 2, 3]"
      ]
     },
     "execution_count": 19,
     "metadata": {},
     "output_type": "execute_result"
    }
   ],
   "source": [
    "flatten([1, 2, 3])"
   ]
  },
  {
   "cell_type": "code",
   "execution_count": 20,
   "metadata": {},
   "outputs": [
    {
     "data": {
      "text/plain": [
       "['m', 'i', 'n', 'm', 'e', 'w', 't', 'a', 't', 'i', 'o', 'n', 's']"
      ]
     },
     "execution_count": 20,
     "metadata": {},
     "output_type": "execute_result"
    }
   ],
   "source": [
    "very_deep = [['m', ['i', ['n', ['m', 'e', ['w', 't', ['a'], 't', 'i', 'o'], 'n']], 's']]]\n",
    "flatten(very_deep)"
   ]
  },
  {
   "cell_type": "code",
   "execution_count": 25,
   "metadata": {},
   "outputs": [],
   "source": [
    "def merge(s, t):\n",
    "    \"\"\"Merges two sorted lists.\n",
    "\n",
    "    >>> s1 = [1, 3, 5]\n",
    "    >>> s2 = [2, 4, 6]\n",
    "    >>> merge(s1, s2)\n",
    "    [1, 2, 3, 4, 5, 6]\n",
    "    >>> s1\n",
    "    [1, 3, 5]\n",
    "    >>> s2\n",
    "    [2, 4, 6]\n",
    "    >>> merge([], [2, 4, 6])\n",
    "    [2, 4, 6]\n",
    "    >>> merge([1, 2, 3], [])\n",
    "    [1, 2, 3]\n",
    "    >>> merge([5, 7], [2, 4, 6])\n",
    "    [2, 4, 5, 6, 7]\n",
    "    >>> merge([2, 3, 4], [2, 4, 6])\n",
    "    [2, 2, 3, 4, 4, 6]\n",
    "    >>> from construct_check import check\n",
    "    >>> check(LAB_SOURCE_FILE, 'merge', ['While', 'For'])    # ban iteration\n",
    "    True\n",
    "    \"\"\"\n",
    "    \"*** YOUR CODE HERE ***\"\n",
    "    # 将两个已经排序好的list 进行merge， 注意使用 递归\n",
    "    # 先找到从开头索引二者较小的一个 ， 加入merge这个数组之中 ， 然后添加进去不就好了\n",
    "    def merge_list(s,t,result,):\n",
    "        # base case\n",
    "        if s == [] :\n",
    "            return result + t\n",
    "        if t == [] :\n",
    "            return result + s\n",
    "        # 递归\n",
    "        if s[0] < t[0]:\n",
    "            result.append(s[0])\n",
    "            return merge_list(s[1:] , t , result)\n",
    "        else:\n",
    "            result.append(t[0])\n",
    "            return merge_list(s  , t[1:] , result )\n",
    "    return merge_list(s,t, [])\n"
   ]
  },
  {
   "cell_type": "code",
   "execution_count": 26,
   "metadata": {},
   "outputs": [
    {
     "data": {
      "text/plain": [
       "[1, 2, 3, 4, 5, 6]"
      ]
     },
     "execution_count": 26,
     "metadata": {},
     "output_type": "execute_result"
    }
   ],
   "source": [
    "    >>> s1 = [1, 3, 5]\n",
    "    >>> s2 = [2, 4, 6]\n",
    "    >>> merge(s1, s2)"
   ]
  },
  {
   "cell_type": "code",
   "execution_count": 27,
   "metadata": {},
   "outputs": [
    {
     "data": {
      "text/plain": [
       "[2, 5, [4, 0, 1], 2]"
      ]
     },
     "execution_count": 27,
     "metadata": {},
     "output_type": "execute_result"
    }
   ],
   "source": [
    "s"
   ]
  },
  {
   "cell_type": "code",
   "execution_count": 28,
   "metadata": {},
   "outputs": [],
   "source": [
    "a= [ 25 , 52 , 55]"
   ]
  },
  {
   "cell_type": "code",
   "execution_count": 29,
   "metadata": {},
   "outputs": [
    {
     "data": {
      "text/plain": [
       "[25, 52, 55]"
      ]
     },
     "execution_count": 29,
     "metadata": {},
     "output_type": "execute_result"
    }
   ],
   "source": [
    "a"
   ]
  },
  {
   "cell_type": "code",
   "execution_count": 32,
   "metadata": {},
   "outputs": [
    {
     "data": {
      "text/plain": [
       "['ele', 52, 55]"
      ]
     },
     "execution_count": 32,
     "metadata": {},
     "output_type": "execute_result"
    }
   ],
   "source": [
    "a[0] = 'ele'\n",
    "a"
   ]
  },
  {
   "cell_type": "code",
   "execution_count": 40,
   "metadata": {},
   "outputs": [
    {
     "data": {
      "text/plain": [
       "['av', 'sfsd', 'fsf']"
      ]
     },
     "execution_count": 40,
     "metadata": {},
     "output_type": "execute_result"
    }
   ],
   "source": [
    "test =  ['st' , 'sfsd' , 'fsf']\n",
    "i = 0 \n",
    "while  i <  len(test): \n",
    "    if test[i] == 'st' : \n",
    "        test[i] = 'av'\n",
    "    i += 1 \n",
    "test"
   ]
  },
  {
   "cell_type": "code",
   "execution_count": 41,
   "metadata": {},
   "outputs": [],
   "source": [
    "def furry_fixes(typed, source, limit):\n",
    "    \"\"\"A diff function for autocorrect that determines how many letters\n",
    "    in TYPED need to be substituted to create SOURCE, then adds the difference in\n",
    "    their lengths and returns the result.\n",
    "\n",
    "    Arguments:\n",
    "        typed: a starting word\n",
    "        source: a string representing a desired goal word\n",
    "        limit: a number representing an upper bound on the number of chars that must change\n",
    "\n",
    "    >>> big_limit = 10\n",
    "    >>> furry_fixes(\"nice\", \"rice\", big_limit)    # Substitute: n -> r\n",
    "    1\n",
    "    >>> furry_fixes(\"range\", \"rungs\", big_limit)  # Substitute: a -> u, e -> s\n",
    "    2\n",
    "    >>> furry_fixes(\"pill\", \"pillage\", big_limit) # Don't substitute anything, length difference of 3.\n",
    "    3\n",
    "    >>> furry_fixes(\"roses\", \"arose\", big_limit)  # Substitute: r -> a, o -> r, s -> o, e -> s, s -> e\n",
    "    5\n",
    "    >>> furry_fixes(\"rose\", \"hello\", big_limit)   # Substitute: r->h, o->e, s->l, e->l, length difference of 1.\n",
    "    5\n",
    "    \"\"\"\n",
    "# 要点在于使用高阶函数来处理limit\n",
    "    def helper(typed, source, limit, index):\n",
    "        if limit < 0:\n",
    "            return float('inf')  # Return a large number to indicate over the limit\n",
    "        if index == len(typed) and index == len(source):\n",
    "            return 0\n",
    "        if index == len(typed):\n",
    "            return len(source) - index\n",
    "        if index == len(source):\n",
    "            return len(typed) - index\n",
    "\n",
    "        if typed[index] == source[index]:\n",
    "            return helper(typed, source, limit, index + 1)\n",
    "        else:\n",
    "            return 1 + helper(typed, source, limit - 1, index + 1)\n",
    "\n",
    "    return helper(typed, source, limit, 0)"
   ]
  },
  {
   "cell_type": "code",
   "execution_count": 42,
   "metadata": {},
   "outputs": [
    {
     "data": {
      "text/plain": [
       "4"
      ]
     },
     "execution_count": 42,
     "metadata": {},
     "output_type": "execute_result"
    }
   ],
   "source": [
    "    >>> big_limit = 10\n",
    "    >>> furry_fixes(\"cats\", \"scat\", big_limit)    # Substitute: n -> r"
   ]
  },
  {
   "cell_type": "code",
   "execution_count": 46,
   "metadata": {},
   "outputs": [
    {
     "name": "stdout",
     "output_type": "stream",
     "text": [
      "ID: 2 Progress: 0.375\n"
     ]
    }
   ],
   "source": [
    ">>> print_progress = lambda d: print('ID:', d['id'], 'Progress:', d['progress'])\n",
    ">>> typed = ['I', 'have', 'begun']\n",
    ">>> source = ['I', 'have', 'begun', 'to', 'type']\n",
    ">>> print_progress({'id': 2, 'progress': 6/16})"
   ]
  },
  {
   "cell_type": "code",
   "execution_count": 48,
   "metadata": {},
   "outputs": [
    {
     "data": {
      "text/plain": [
       "'2+ 2= 4'"
      ]
     },
     "execution_count": 48,
     "metadata": {},
     "output_type": "execute_result"
    }
   ],
   "source": [
    "f'2+ 2= {2+2}'"
   ]
  },
  {
   "cell_type": "code",
   "execution_count": 51,
   "metadata": {},
   "outputs": [
    {
     "data": {
      "text/plain": [
       "'half is 0.25'"
      ]
     },
     "execution_count": 51,
     "metadata": {},
     "output_type": "execute_result"
    }
   ],
   "source": [
    "half = 1/2 \n",
    "f'half is {half * half}'\n"
   ]
  },
  {
   "cell_type": "code",
   "execution_count": null,
   "metadata": {},
   "outputs": [],
   "source": []
  }
 ],
 "metadata": {
  "kernelspec": {
   "display_name": "Python 3",
   "language": "python",
   "name": "python3"
  },
  "language_info": {
   "codemirror_mode": {
    "name": "ipython",
    "version": 3
   },
   "file_extension": ".py",
   "mimetype": "text/x-python",
   "name": "python",
   "nbconvert_exporter": "python",
   "pygments_lexer": "ipython3",
   "version": "3.11.9"
  }
 },
 "nbformat": 4,
 "nbformat_minor": 2
}
