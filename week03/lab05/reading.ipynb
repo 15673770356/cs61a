{
 "cells": [
  {
   "cell_type": "code",
   "execution_count": 15,
   "metadata": {},
   "outputs": [],
   "source": [
    "suits = ['coin' , 'dimond' , 'love' ]\n",
    "nest  = list(suits)\n",
    "nest2 = suits "
   ]
  },
  {
   "cell_type": "code",
   "execution_count": 16,
   "metadata": {},
   "outputs": [
    {
     "data": {
      "text/plain": [
       "'love'"
      ]
     },
     "execution_count": 16,
     "metadata": {},
     "output_type": "execute_result"
    }
   ],
   "source": [
    "nest.pop()\n"
   ]
  },
  {
   "cell_type": "code",
   "execution_count": 17,
   "metadata": {},
   "outputs": [
    {
     "name": "stdout",
     "output_type": "stream",
     "text": [
      "['coin', 'dimond', 'love']\n",
      "['coin', 'dimond']\n",
      "['coin', 'dimond', 'love']\n"
     ]
    }
   ],
   "source": [
    "print(nest2)\n",
    "print(nest) \n",
    "print(suits)"
   ]
  },
  {
   "cell_type": "code",
   "execution_count": 18,
   "metadata": {},
   "outputs": [
    {
     "data": {
      "text/plain": [
       "False"
      ]
     },
     "execution_count": 18,
     "metadata": {},
     "output_type": "execute_result"
    }
   ],
   "source": [
    "nest is suits"
   ]
  },
  {
   "cell_type": "code",
   "execution_count": 20,
   "metadata": {},
   "outputs": [
    {
     "data": {
      "text/plain": [
       "True"
      ]
     },
     "execution_count": 20,
     "metadata": {},
     "output_type": "execute_result"
    }
   ],
   "source": [
    "nest2 is suits\n",
    "# is 判断内存地址是否相同，是否操作的是同一个对象 \n",
    "# == 判断内存中的内容是否相等 。"
   ]
  },
  {
   "cell_type": "code",
   "execution_count": 21,
   "metadata": {},
   "outputs": [
    {
     "name": "stdout",
     "output_type": "stream",
     "text": [
      "None\n"
     ]
    }
   ],
   "source": [
    "print(nest.append(2))"
   ]
  },
  {
   "cell_type": "code",
   "execution_count": 22,
   "metadata": {},
   "outputs": [
    {
     "ename": "ValueError",
     "evalue": "list.remove(x): x not in list",
     "output_type": "error",
     "traceback": [
      "\u001b[1;31m---------------------------------------------------------------------------\u001b[0m",
      "\u001b[1;31mValueError\u001b[0m                                Traceback (most recent call last)",
      "Cell \u001b[1;32mIn[22], line 1\u001b[0m\n\u001b[1;32m----> 1\u001b[0m \u001b[43mnest\u001b[49m\u001b[38;5;241;43m.\u001b[39;49m\u001b[43mremove\u001b[49m\u001b[43m(\u001b[49m\u001b[38;5;241;43m6\u001b[39;49m\u001b[43m)\u001b[49m\n",
      "\u001b[1;31mValueError\u001b[0m: list.remove(x): x not in list"
     ]
    }
   ],
   "source": [
    "nest.remove(6)"
   ]
  },
  {
   "cell_type": "code",
   "execution_count": 32,
   "metadata": {},
   "outputs": [
    {
     "data": {
      "text/plain": [
       "[3, 4, 5]"
      ]
     },
     "execution_count": 32,
     "metadata": {},
     "output_type": "execute_result"
    }
   ],
   "source": [
    "s = [3]\n",
    "s.extend([4, 5])\n",
    "s"
   ]
  },
  {
   "cell_type": "code",
   "execution_count": 33,
   "metadata": {},
   "outputs": [
    {
     "data": {
      "text/plain": [
       "[3, 4, 5]"
      ]
     },
     "execution_count": 33,
     "metadata": {},
     "output_type": "execute_result"
    }
   ],
   "source": [
    "a = s \n",
    "a is s \n",
    "a"
   ]
  },
  {
   "cell_type": "code",
   "execution_count": 34,
   "metadata": {},
   "outputs": [
    {
     "data": {
      "text/plain": [
       "[3, 4]"
      ]
     },
     "execution_count": 34,
     "metadata": {},
     "output_type": "execute_result"
    }
   ],
   "source": [
    "a.pop()\n",
    "s = [3]\n",
    "s.extend([34,53])\n",
    "a "
   ]
  },
  {
   "cell_type": "code",
   "execution_count": 35,
   "metadata": {},
   "outputs": [
    {
     "data": {
      "text/plain": [
       "[3, 4, 5, 9, 10, None, None]"
      ]
     },
     "execution_count": 35,
     "metadata": {},
     "output_type": "execute_result"
    }
   ],
   "source": [
    "\n",
    "s=[3,4,5]\n",
    "s.extend([s.append(9), s.append(10)])\n",
    "s"
   ]
  },
  {
   "cell_type": "code",
   "execution_count": 36,
   "metadata": {},
   "outputs": [
    {
     "data": {
      "text/plain": [
       "[2, 4, [1, 3]]"
      ]
     },
     "execution_count": 36,
     "metadata": {},
     "output_type": "execute_result"
    }
   ],
   "source": [
    "a = [2,4,[1,3]] \n",
    "a"
   ]
  },
  {
   "cell_type": "code",
   "execution_count": 37,
   "metadata": {},
   "outputs": [
    {
     "data": {
      "text/plain": [
       "False"
      ]
     },
     "execution_count": 37,
     "metadata": {},
     "output_type": "execute_result"
    }
   ],
   "source": [
    "pokemon = {'pikachu': 25, 'dragonair': 148}\n",
    "'mewtwo' in pokemon\n"
   ]
  },
  {
   "cell_type": "code",
   "execution_count": 39,
   "metadata": {},
   "outputs": [
    {
     "data": {
      "text/plain": [
       "{'pikachu': 25, 'dragonair': 148, 'mew': 25, 25: 'pikachu'}"
      ]
     },
     "execution_count": 39,
     "metadata": {},
     "output_type": "execute_result"
    }
   ],
   "source": [
    "pokemon['mew'] = pokemon['pikachu'] \n",
    "pokemon[25] = 'pikachu'\n",
    "pokemon\n"
   ]
  },
  {
   "cell_type": "code",
   "execution_count": 40,
   "metadata": {},
   "outputs": [
    {
     "data": {
      "text/plain": [
       "{'pikachu': 25, 'dragonair': 148, 'mew': 25, 25: 'pikachu', 'mewtwo': 50}"
      ]
     },
     "execution_count": 40,
     "metadata": {},
     "output_type": "execute_result"
    }
   ],
   "source": [
    ">>> pokemon['mewtwo'] = pokemon['mew'] * 2\n",
    ">>> pokemon\n"
   ]
  },
  {
   "cell_type": "code",
   "execution_count": 41,
   "metadata": {},
   "outputs": [
    {
     "ename": "TypeError",
     "evalue": "unhashable type: 'list'",
     "output_type": "error",
     "traceback": [
      "\u001b[1;31m---------------------------------------------------------------------------\u001b[0m",
      "\u001b[1;31mTypeError\u001b[0m                                 Traceback (most recent call last)",
      "Cell \u001b[1;32mIn[41], line 1\u001b[0m\n\u001b[1;32m----> 1\u001b[0m \u001b[43mpokemon\u001b[49m\u001b[43m[\u001b[49m\u001b[43m[\u001b[49m\u001b[38;5;124;43m'\u001b[39;49m\u001b[38;5;124;43mfiretype\u001b[39;49m\u001b[38;5;124;43m'\u001b[39;49m\u001b[43m,\u001b[49m\u001b[43m \u001b[49m\u001b[38;5;124;43m'\u001b[39;49m\u001b[38;5;124;43mflying\u001b[39;49m\u001b[38;5;124;43m'\u001b[39;49m\u001b[43m]\u001b[49m\u001b[43m]\u001b[49m \u001b[38;5;241m=\u001b[39m \u001b[38;5;241m146\u001b[39m  \u001b[38;5;66;03m# If this errors, just type Error. Note that dictionary keys must be hashable.\u001b[39;00m\n",
      "\u001b[1;31mTypeError\u001b[0m: unhashable type: 'list'"
     ]
    }
   ],
   "source": [
    ">>> pokemon[['firetype', 'flying']] = 146  # If this errors, just type Error. Note that dictionary keys must be hashable.\n"
   ]
  },
  {
   "cell_type": "code",
   "execution_count": 56,
   "metadata": {},
   "outputs": [],
   "source": [
    "def partial_reverse(s, start):\n",
    "    \"\"\"Reverse part of a list in-place, starting with start up to the end of\n",
    "    the list.\n",
    "\n",
    "    >>> a = [1, 2, 3, 4, 5, 6, 7]\n",
    "    >>> partial_reverse(a, 2)\n",
    "    >>> a\n",
    "    [1, 2, 7, 6, 5, 4, 3]\n",
    "    >>> partial_reverse(a, 5)\n",
    "    >>> a\n",
    "    [1, 2, 7, 6, 5, 3, 4]\n",
    "    \"\"\"\n",
    "    \"*** YOUR CODE HERE ***\"\n",
    "#     实现一个从start开始的列表翻转效果 。\n",
    "#    可以通过swap函数来实现 。\n",
    "#   使用迭代的方法来获取 index1 和 index2\n",
    "# baseline\n",
    "    index1 = start  \n",
    "    index2 = len(s) -1\n",
    "    while (index1  < index2):\n",
    "        temp = s[index1]\n",
    "        s[index1] = s[index2]\n",
    "        s[index2] = temp\n",
    "        index1 += 1\n",
    "        index2 -= 1"
   ]
  },
  {
   "cell_type": "code",
   "execution_count": 57,
   "metadata": {},
   "outputs": [
    {
     "data": {
      "text/plain": [
       "[1, 2, 7, 6, 5, 4, 3]"
      ]
     },
     "execution_count": 57,
     "metadata": {},
     "output_type": "execute_result"
    }
   ],
   "source": [
    "a = [1, 2, 3, 4, 5, 6, 7]\n",
    "partial_reverse(a, 2)\n",
    "a"
   ]
  },
  {
   "cell_type": "code",
   "execution_count": 62,
   "metadata": {},
   "outputs": [],
   "source": [
    "def group_by(s, fn):\n",
    "    \"\"\"Return a dictionary of lists that together contain the elements of s.\n",
    "    The key for each list is the value that fn returns when called on any of the\n",
    "    values of that list.\n",
    "形成新的字典，每个键 都是 值的 结果 ，相同结果的值，作为同一个键的值\n",
    "    >>> group_by([12, 23, 14, 45], lambda p: p // 10)\n",
    "    {1: [12, 14], 2: [23], 4: [45]}\n",
    "    >>> group_by(range(-3, 4), lambda x: x * x)\n",
    "    {9: [-3, 3], 4: [-2, 2], 1: [-1, 1], 0: [0]}\n",
    "    \"\"\"\n",
    "    grouped = {}\n",
    "    for i in s:\n",
    "        key = fn(i)\n",
    "        if key in grouped:\n",
    "            grouped[key].append(i)\n",
    "        else:\n",
    "            grouped[key] = [i]\n",
    "    return grouped"
   ]
  },
  {
   "cell_type": "code",
   "execution_count": 63,
   "metadata": {},
   "outputs": [
    {
     "data": {
      "text/plain": [
       "{1: [12, 14], 2: [23], 4: [45]}"
      ]
     },
     "execution_count": 63,
     "metadata": {},
     "output_type": "execute_result"
    }
   ],
   "source": [
    "group_by([12, 23, 14, 45], lambda p: p // 10)"
   ]
  },
  {
   "cell_type": "code",
   "execution_count": 83,
   "metadata": {},
   "outputs": [],
   "source": [
    "def pascal(row, column):\n",
    "    \"\"\"Returns the value of the item in Pascal's Triangle\n",
    "    whose position is specified by row and column.\n",
    "    >>> pascal(0, 0)    # The top left (the point of the triangle)\n",
    "    1\n",
    "    >>> pascal(0, 5)\t# Empty entry; outside of Pascal's Triangle\n",
    "    0\n",
    "    >>> pascal(3, 2)\t# Row 3 (1 3 3 1), Column 2\n",
    "    3\n",
    "    >>> pascal(4, 2)     # Row 4 (1 4 6 4 1), Column 2\n",
    "    6\n",
    "    \"\"\"\n",
    "    \"*** YOUR CODE HERE ***\"\n",
    "#    因为每一个点(row,colum)l，都是其上方的点(row -1 , colum ) 和 ( row - 1 , colum - 1 ) 求和\n",
    "\n",
    "#     处于非定义区域内\n",
    "#   base line\n",
    "    if column == row == 0 :\n",
    "        return  1\n",
    "    elif column >0  and row  == 0  :\n",
    "        return 0\n",
    "    elif column < 0 or row < 0 : \n",
    "        return 0 \n",
    "    else:\n",
    "        return pascal(row -1 , column) + pascal(row -1 , column - 1 )"
   ]
  },
  {
   "cell_type": "code",
   "execution_count": 88,
   "metadata": {},
   "outputs": [
    {
     "data": {
      "text/plain": [
       "6"
      ]
     },
     "execution_count": 88,
     "metadata": {},
     "output_type": "execute_result"
    }
   ],
   "source": [
    " pascal(4, 2)"
   ]
  },
  {
   "cell_type": "code",
   "execution_count": 85,
   "metadata": {},
   "outputs": [
    {
     "data": {
      "text/plain": [
       "0"
      ]
     },
     "execution_count": 85,
     "metadata": {},
     "output_type": "execute_result"
    }
   ],
   "source": [
    "pascal(0, 5)"
   ]
  },
  {
   "cell_type": "code",
   "execution_count": 86,
   "metadata": {},
   "outputs": [
    {
     "data": {
      "text/plain": [
       "1"
      ]
     },
     "execution_count": 86,
     "metadata": {},
     "output_type": "execute_result"
    }
   ],
   "source": [
    "pascal(1, 1)"
   ]
  },
  {
   "cell_type": "code",
   "execution_count": 87,
   "metadata": {},
   "outputs": [
    {
     "data": {
      "text/plain": [
       "2"
      ]
     },
     "execution_count": 87,
     "metadata": {},
     "output_type": "execute_result"
    }
   ],
   "source": [
    "pascal(2, 1)"
   ]
  },
  {
   "cell_type": "code",
   "execution_count": 103,
   "metadata": {},
   "outputs": [],
   "source": [
    "def insert_items(s, before, after):\n",
    "    \"\"\"Insert after into s after each occurrence of before and then return s.\n",
    "\n",
    "    >>> test_s = [1, 5, 8, 5, 2, 3]\n",
    "    >>> new_s = insert_items(test_s, 5, 7)\n",
    "    >>> new_s\n",
    "    [1, 5, 7, 8, 5, 7, 2, 3]\n",
    "    >>> test_s\n",
    "    [1, 5, 7, 8, 5, 7, 2, 3]\n",
    "    >>> new_s is test_s\n",
    "    True\n",
    "    >>> double_s = [1, 2, 1, 2, 3, 3]\n",
    "    >>> double_s = insert_items(double_s, 3, 4)\n",
    "    >>> double_s\n",
    "    [1, 2, 1, 2, 3, 4, 3, 4]\n",
    "    >>> large_s = [1, 4, 8]\n",
    "    >>> large_s2 = insert_items(large_s, 4, 4)\n",
    "    >>> large_s2\n",
    "    [1, 4, 4, 8]\n",
    "    >>> large_s3 = insert_items(large_s2, 4, 6)\n",
    "    >>> large_s3\n",
    "    [1, 4, 6, 4, 6, 8]\n",
    "    >>> large_s3 is large_s\n",
    "    True\n",
    "    \"\"\"\n",
    "    \"*** YOUR CODE HERE ***\"\n",
    "#   要分 情况 讨论， 其中是否 before 和 after 是相等的情况\n",
    "#     base line\n",
    "    i = 0 \n",
    "    while i < len(s):\n",
    "        if s[i] == before :\n",
    "            s.insert(i+1,after)\n",
    "            if before == after : \n",
    "                i += 1\n",
    "        i += 1 \n",
    "\n",
    "    return s \n",
    "    "
   ]
  },
  {
   "cell_type": "code",
   "execution_count": 104,
   "metadata": {},
   "outputs": [
    {
     "data": {
      "text/plain": [
       "[1, 5, 7, 8, 5, 7, 2, 3]"
      ]
     },
     "execution_count": 104,
     "metadata": {},
     "output_type": "execute_result"
    }
   ],
   "source": [
    "test_s = [1, 5, 8, 5, 2, 3]\n",
    "new_s = insert_items(test_s, 5, 7)\n",
    "new_s"
   ]
  },
  {
   "cell_type": "code",
   "execution_count": 106,
   "metadata": {},
   "outputs": [
    {
     "data": {
      "text/plain": [
       "[1, 2, 1, 2, 3, 4, 3, 4]"
      ]
     },
     "execution_count": 106,
     "metadata": {},
     "output_type": "execute_result"
    }
   ],
   "source": [
    "    >>> double_s = [1, 2, 1, 2, 3, 3]\n",
    "    >>> double_s = insert_items(double_s, 3, 4)\n",
    "    >>> double_s\n",
    "    [1, 2, 1, 2, 3, 4, 3, 4]"
   ]
  },
  {
   "cell_type": "code",
   "execution_count": null,
   "metadata": {},
   "outputs": [],
   "source": []
  },
  {
   "cell_type": "markdown",
   "metadata": {},
   "source": []
  }
 ],
 "metadata": {
  "kernelspec": {
   "display_name": "Python 3",
   "language": "python",
   "name": "python3"
  },
  "language_info": {
   "codemirror_mode": {
    "name": "ipython",
    "version": 3
   },
   "file_extension": ".py",
   "mimetype": "text/x-python",
   "name": "python",
   "nbconvert_exporter": "python",
   "pygments_lexer": "ipython3",
   "version": "3.11.9"
  }
 },
 "nbformat": 4,
 "nbformat_minor": 2
}
