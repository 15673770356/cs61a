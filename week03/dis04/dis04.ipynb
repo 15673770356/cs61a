{
 "cells": [
  {
   "cell_type": "markdown",
   "metadata": {},
   "source": [
    "## 树递归问题"
   ]
  },
  {
   "cell_type": "markdown",
   "metadata": {},
   "source": [
    "- 一般而言，对于分支选择问题，使用树递归"
   ]
  },
  {
   "cell_type": "code",
   "execution_count": null,
   "metadata": {},
   "outputs": [],
   "source": []
  },
  {
   "cell_type": "markdown",
   "metadata": {},
   "source": [
    "### Q1 昆虫组合学问题"
   ]
  },
  {
   "cell_type": "markdown",
   "metadata": {},
   "source": [
    "- 如果昆虫撞到网格的上边缘或最右边缘\n",
    "    会发现各自都只有一条路可以走了\n",
    "    也就是最简单的情况只需要让横坐标和纵坐标达到边缘值，就是本身\n",
    "    分别相加 "
   ]
  },
  {
   "cell_type": "code",
   "execution_count": 3,
   "metadata": {},
   "outputs": [],
   "source": [
    "def paths(m, n):\n",
    "    \"\"\"Return the number of paths from one corner of an\n",
    "    M by N grid to the opposite corner.\n",
    "\n",
    "    >>> paths(2, 2)\n",
    "    2\n",
    "    >>> paths(5, 7)\n",
    "    210\n",
    "    >>> paths(117, 1)\n",
    "    1\n",
    "    >>> paths(1, 157)\n",
    "    1\n",
    "    \"\"\"\n",
    "    \"*** YOUR CODE HERE ***\"\n",
    "    # base case 从 (1,1) 出发 \n",
    "    # 换个思路，从(m,n ) 到 (1,1)\n",
    "    if m ==1 or n == 1 :\n",
    "        return 1 \n",
    "    else :\n",
    "        return  paths(m-1,n) + paths(m,n-1 ) \n",
    "    \n",
    "\n"
   ]
  },
  {
   "cell_type": "code",
   "execution_count": 4,
   "metadata": {},
   "outputs": [
    {
     "data": {
      "text/plain": [
       "2"
      ]
     },
     "execution_count": 4,
     "metadata": {},
     "output_type": "execute_result"
    }
   ],
   "source": [
    " paths(2, 2)"
   ]
  },
  {
   "cell_type": "code",
   "execution_count": 5,
   "metadata": {},
   "outputs": [
    {
     "data": {
      "text/plain": [
       "210"
      ]
     },
     "execution_count": 5,
     "metadata": {},
     "output_type": "execute_result"
    }
   ],
   "source": [
    "paths(5, 7)"
   ]
  },
  {
   "cell_type": "markdown",
   "metadata": {},
   "source": [
    "## Q2: Even weighted Q2：均匀加权"
   ]
  },
  {
   "cell_type": "markdown",
   "metadata": {},
   "source": []
  },
  {
   "cell_type": "code",
   "execution_count": 28,
   "metadata": {},
   "outputs": [],
   "source": [
    "def even_weighted_loop(s):\n",
    "    \"\"\"\n",
    "    >>> x = [1, 2, 3, 4, 5, 6]\n",
    "    >>> even_weighted_loop(x)\n",
    "    [0, 6, 20]\n",
    "    \"\"\"\n",
    "    \"*** YOUR CODE HERE ***\"\n",
    "    result = []\n",
    "    i = 0\n",
    "    while  i < len(s) :\n",
    "        if i % 2 == 0 :\n",
    "            #result = result +  i*s[i] \n",
    "            result.append(i*s[i] )\n",
    "        i += 1 \n",
    "    return result\n",
    "            \n",
    "\n"
   ]
  },
  {
   "cell_type": "code",
   "execution_count": 29,
   "metadata": {},
   "outputs": [
    {
     "data": {
      "text/plain": [
       "[0, 6, 20]"
      ]
     },
     "execution_count": 29,
     "metadata": {},
     "output_type": "execute_result"
    }
   ],
   "source": [
    "x = [1, 2, 3, 4, 5, 6]\n",
    "even_weighted_loop(x)"
   ]
  },
  {
   "cell_type": "code",
   "execution_count": 32,
   "metadata": {},
   "outputs": [],
   "source": [
    "def even_weighted_comprehension(s):\n",
    "    \"\"\"\n",
    "    >>> x = [1, 2, 3, 4, 5, 6]\n",
    "    >>> even_weighted_comprehension(x)\n",
    "    [0, 6, 20]\n",
    "    \"\"\"\n",
    "    return [i*s[i] for i in range(0,len(s)) if i % 2 == 0 ]\n",
    "\n"
   ]
  },
  {
   "cell_type": "code",
   "execution_count": 33,
   "metadata": {},
   "outputs": [
    {
     "data": {
      "text/plain": [
       "[0, 6, 20]"
      ]
     },
     "execution_count": 33,
     "metadata": {},
     "output_type": "execute_result"
    }
   ],
   "source": [
    "x = [1, 2, 3, 4, 5, 6]\n",
    "even_weighted_loop(x)"
   ]
  },
  {
   "cell_type": "markdown",
   "metadata": {},
   "source": [
    "### Q3: Has Path Q3：有路径"
   ]
  },
  {
   "cell_type": "code",
   "execution_count": 1,
   "metadata": {},
   "outputs": [],
   "source": [
    "def tree(label, branches=[]):\n",
    "    for branch in branches:\n",
    "        assert is_tree(branch), 'branches must be trees'\n",
    "    return [label] + list(branches)\n",
    "\n",
    "def label(tree):\n",
    "    return tree[0]\n",
    "\n",
    "def branches(tree):\n",
    "    return tree[1:]\n",
    "\n",
    "def is_leaf(tree):\n",
    "    return not branches(tree)\n",
    "\n",
    "def is_tree(tree):\n",
    "    if type(tree) != list or len(tree) < 1:\n",
    "        return False\n",
    "    for branch in branches(tree):\n",
    "        if not is_tree(branch):\n",
    "            return False\n",
    "    return True"
   ]
  },
  {
   "cell_type": "code",
   "execution_count": null,
   "metadata": {},
   "outputs": [],
   "source": [
    "def has_path(t, p):\n",
    "    \"\"\"Return whether tree t has a path from the root with labels p.\n",
    "\n",
    "    >>> t2 = tree(5, [tree(6), tree(7)])\n",
    "    >>> t1 = tree(3, [tree(4), t2])\n",
    "    >>> has_path(t1, [5, 6])        # This path is not from the root of t1\n",
    "    False\n",
    "    >>> has_path(t2, [5, 6])        # This path is from the root of t2\n",
    "    True\n",
    "    >>> has_path(t1, [3, 5])        # This path does not go to a leaf, but that's ok\n",
    "    True\n",
    "    >>> has_path(t1, [3, 5, 6])     # This path goes to a leaf\n",
    "    True\n",
    "    >>> has_path(t1, [3, 4, 5, 6])  # There is no path with these labels\n",
    "    False\n",
    "    \"\"\"\n",
    "    if p == [label(t)]:\n",
    "        return True\n",
    "    elif label(t) != p[0]:\n",
    "        return False\n",
    "    else:\n",
    "        \"*** YOUR CODE HERE ***\"\n",
    "        return any([has_path(b, p[1:]) for b in branches(t)])"
   ]
  },
  {
   "cell_type": "markdown",
   "metadata": {},
   "source": [
    "### Q4: Find Path"
   ]
  },
  {
   "cell_type": "code",
   "execution_count": 5,
   "metadata": {},
   "outputs": [],
   "source": [
    "def find_path(t, x):\n",
    "    \"\"\"\n",
    "    >>> t2 = tree(5, [tree(6), tree(7)])\n",
    "    >>> t1 = tree(3, [tree(4), t2])\n",
    "    >>> find_path(t1, 5)\n",
    "    [3, 5]\n",
    "    >>> find_path(t1, 4)\n",
    "    [3, 4]\n",
    "    >>> find_path(t1, 6)\n",
    "    [3, 5, 6]\n",
    "    >>> find_path(t2, 6)\n",
    "    [5, 6]\n",
    "    >>> print(find_path(t1, 2))\n",
    "    None\n",
    "    \"\"\"\n",
    "    if label(t) == x:\n",
    "        return [label(t)]\n",
    "    for b in branches(t):\n",
    "        path = find_path(b, x)\n",
    "        if path:\n",
    "            return [label(t)] + path\n",
    "    return None\n",
    "\n",
    "\n"
   ]
  },
  {
   "cell_type": "code",
   "execution_count": 6,
   "metadata": {},
   "outputs": [
    {
     "data": {
      "text/plain": [
       "3"
      ]
     },
     "execution_count": 6,
     "metadata": {},
     "output_type": "execute_result"
    }
   ],
   "source": [
    "hhh = [3,5 ,3]\n",
    "min(hhh)"
   ]
  },
  {
   "cell_type": "code",
   "execution_count": 7,
   "metadata": {},
   "outputs": [
    {
     "data": {
      "text/plain": [
       "[3, 5]"
      ]
     },
     "execution_count": 7,
     "metadata": {},
     "output_type": "execute_result"
    }
   ],
   "source": [
    "\n",
    "    >>> t2 = tree(5, [tree(6), tree(7)])\n",
    "    >>> t1 = tree(3, [tree(4), t2])\n",
    "    >>> find_path(t1, 5)"
   ]
  },
  {
   "cell_type": "markdown",
   "metadata": {},
   "source": [
    "### Q5: Sprout Leaves"
   ]
  },
  {
   "cell_type": "code",
   "execution_count": null,
   "metadata": {},
   "outputs": [],
   "source": []
  }
 ],
 "metadata": {
  "kernelspec": {
   "display_name": "Python 3",
   "language": "python",
   "name": "python3"
  },
  "language_info": {
   "codemirror_mode": {
    "name": "ipython",
    "version": 3
   },
   "file_extension": ".py",
   "mimetype": "text/x-python",
   "name": "python",
   "nbconvert_exporter": "python",
   "pygments_lexer": "ipython3",
   "version": "3.11.9"
  }
 },
 "nbformat": 4,
 "nbformat_minor": 2
}
