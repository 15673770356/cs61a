{
 "cells": [
  {
   "cell_type": "code",
   "execution_count": 2,
   "id": "5050c1b7-7ae5-4be4-b1b6-f870ac31c176",
   "metadata": {},
   "outputs": [],
   "source": [
    "def multiply(m, n):\n",
    "    \"\"\"Takes two positive integers and returns their product using recursion.\n",
    "    >>> multiply(5, 3)\n",
    "    15\n",
    "    \"\"\"\n",
    "    \"*** YOUR CODE HERE ***\"\n",
    "    if n == 1 : \n",
    "        return m \n",
    "    else : \n",
    "        return multiply(m,n-1) + m "
   ]
  },
  {
   "cell_type": "code",
   "execution_count": 3,
   "id": "36725f2d-0559-4c8e-ad3a-131fa59dd909",
   "metadata": {},
   "outputs": [
    {
     "data": {
      "text/plain": [
       "15"
      ]
     },
     "execution_count": 3,
     "metadata": {},
     "output_type": "execute_result"
    }
   ],
   "source": [
    "multiply(5, 3)"
   ]
  },
  {
   "cell_type": "code",
   "execution_count": 4,
   "id": "3268831d-2205-46a9-b195-a74d307d1b93",
   "metadata": {},
   "outputs": [
    {
     "data": {
      "text/plain": [
       "990"
      ]
     },
     "execution_count": 4,
     "metadata": {},
     "output_type": "execute_result"
    }
   ],
   "source": [
    "multiply(99,10)"
   ]
  },
  {
   "cell_type": "code",
   "execution_count": 50,
   "id": "593845c3-e539-467f-9cb8-97a8647792c0",
   "metadata": {},
   "outputs": [],
   "source": [
    "def swipe(n):\n",
    "    \"\"\"Print the digits of n, one per line, first backward then forward.\n",
    "    2837 - > 2 -> 8 - > 3 - > 7 \n",
    "    2837 % 10 = 7\n",
    "    2837 // 10 = 283\n",
    "    >>> swipe(2837)\n",
    "    7\n",
    "    3\n",
    "    8\n",
    "    2\n",
    "    8\n",
    "    3\n",
    "    7\n",
    "    \"\"\"\n",
    "    if n < 10:\n",
    "        print(n)\n",
    "    else:\n",
    "        \"*** YOUR CODE HERE ***\"\n",
    "        print(n%10)\n",
    "        swipe(n//10)\n",
    "        print(n%10)"
   ]
  },
  {
   "cell_type": "code",
   "execution_count": 51,
   "id": "9171d02d-ea84-4433-88da-54cbedae0f29",
   "metadata": {},
   "outputs": [
    {
     "name": "stdout",
     "output_type": "stream",
     "text": [
      "7\n",
      "3\n",
      "8\n",
      "2\n",
      "8\n",
      "3\n",
      "7\n"
     ]
    }
   ],
   "source": [
    "swipe(2837)"
   ]
  },
  {
   "cell_type": "code",
   "execution_count": 18,
   "id": "0cbb6e47-dbc1-4ddf-8969-c200ddb128d5",
   "metadata": {},
   "outputs": [
    {
     "data": {
      "text/plain": [
       "283"
      ]
     },
     "execution_count": 18,
     "metadata": {},
     "output_type": "execute_result"
    }
   ],
   "source": [
    "2837 // 10 "
   ]
  },
  {
   "cell_type": "code",
   "execution_count": 22,
   "id": "46c0544f-0397-43f2-bdae-a0308cff38e8",
   "metadata": {},
   "outputs": [],
   "source": [
    "def skip_factorial(n):\n",
    "    \"\"\"Return the product of positive integers n * (n - 2) * (n - 4) * ...\n",
    "\n",
    "    >>> skip_factorial(5) # 5 * 3 * 1\n",
    "    15\n",
    "    >>> skip_factorial(8) # 8 * 6 * 4 * 2\n",
    "    384\n",
    "    \"\"\"\n",
    "    if n-2 <= 0  :\n",
    "        return n \n",
    "    else:\n",
    "        return n * skip_factorial(n - 2)\n"
   ]
  },
  {
   "cell_type": "code",
   "execution_count": 23,
   "id": "5d5e4088-8df2-4fed-92ef-b8b8168dc7b3",
   "metadata": {},
   "outputs": [
    {
     "data": {
      "text/plain": [
       "15"
      ]
     },
     "execution_count": 23,
     "metadata": {},
     "output_type": "execute_result"
    }
   ],
   "source": [
    "skip_factorial(5)"
   ]
  },
  {
   "cell_type": "code",
   "execution_count": 24,
   "id": "7f8f4b7d-59d6-47fb-9b1b-aab161460530",
   "metadata": {},
   "outputs": [
    {
     "data": {
      "text/plain": [
       "384"
      ]
     },
     "execution_count": 24,
     "metadata": {},
     "output_type": "execute_result"
    }
   ],
   "source": [
    "skip_factorial(8)"
   ]
  },
  {
   "cell_type": "code",
   "execution_count": 61,
   "id": "1bb9c658-619b-4aaf-a435-ba886e2d918c",
   "metadata": {},
   "outputs": [],
   "source": [
    "def hailstone(n):\n",
    "    \"\"\"Print out the hailstone sequence starting at n, \n",
    "    and return the number of elements in the sequence.\n",
    "    >>> a = hailstone(10)\n",
    "    10\n",
    "    5\n",
    "    16\n",
    "    8\n",
    "    4\n",
    "    2\n",
    "    1\n",
    "    >>> a\n",
    "    7\n",
    "    >>> b = hailstone(1)\n",
    "    1\n",
    "    >>> b\n",
    "    1\n",
    "    \"\"\"\n",
    "    print(n)\n",
    "    if n % 2 == 0:\n",
    "        return even(n)\n",
    "    else:\n",
    "        return odd(n)\n",
    "\n",
    "def even(n):\n",
    "    return hailstone( n // 2 )  # 注意，如果不希望出现 1.0 对于偶数需要使用 // \n",
    "\n",
    "def odd(n):\n",
    "    \"*** YOUR CODE HERE ***\"\n",
    "    if n == 1 : \n",
    "        return \n",
    "    else : \n",
    "        hailstone(3 * n + 1 ) "
   ]
  },
  {
   "cell_type": "code",
   "execution_count": 62,
   "id": "b3b464cf-5495-45b6-ab23-b84484745dc3",
   "metadata": {},
   "outputs": [
    {
     "name": "stdout",
     "output_type": "stream",
     "text": [
      "10\n",
      "5\n",
      "16\n",
      "8\n",
      "4\n",
      "2\n",
      "1\n"
     ]
    }
   ],
   "source": [
    "hailstone(10)"
   ]
  },
  {
   "cell_type": "code",
   "execution_count": null,
   "id": "7da70163-3c98-48c2-922a-2add48ece886",
   "metadata": {},
   "outputs": [],
   "source": [
    "def count_stair_ways(n):\n",
    "    \"\"\"Returns the number of ways to climb up a flight of\n",
    "    n stairs, moving either one step or two steps at a time.\n",
    "    >>> count_stair_ways(1)\n",
    "    1\n",
    "    >>> count_stair_ways(2)\n",
    "    2\n",
    "    >>> count_stair_ways(4)\n",
    "    5\n",
    "    \"\"\"\n",
    "    \"*** YOUR CODE HERE ***\"\n",
    "    if n <= 2 : \n",
    "        return n \n",
    "    else : \n",
    "        return count_stair_ways(n-1 ) + count_stair_ways(n-2 )"
   ]
  },
  {
   "cell_type": "code",
   "execution_count": 68,
   "id": "886acda7-dfb8-4c56-ad63-f17570862723",
   "metadata": {},
   "outputs": [
    {
     "data": {
      "text/plain": [
       "89"
      ]
     },
     "execution_count": 68,
     "metadata": {},
     "output_type": "execute_result"
    }
   ],
   "source": [
    "count_stair_ways(10)"
   ]
  },
  {
   "cell_type": "code",
   "execution_count": 77,
   "id": "5151de4e-9d91-4a90-95e3-8f6d8592b064",
   "metadata": {},
   "outputs": [],
   "source": [
    "def sevens(n, k):\n",
    "    \"\"\"Return the (clockwise) position of who says n among k players.\n",
    "\n",
    "    >>> sevens(2, 5)\n",
    "    2\n",
    "    >>> sevens(6, 5)\n",
    "    1\n",
    "    >>> sevens(7, 5)\n",
    "    2\n",
    "    >>> sevens(8, 5)\n",
    "    1\n",
    "    >>> sevens(9, 5)\n",
    "    5\n",
    "    >>> sevens(18, 5)\n",
    "    2\n",
    "    \"\"\"\n",
    "    def f(i, who, direction):\n",
    "        if i == n:\n",
    "            return who\n",
    "        if i % 7 == 0 or has_seven(i):\n",
    "            direction = -direction\n",
    "        who = who + direction\n",
    "        if who > k:\n",
    "            who = 1\n",
    "        if who < 1:\n",
    "            who = k\n",
    "        return f(i + 1, who, direction)\n",
    "    return f(1, 1, 1)\n",
    "\n",
    "def has_seven(n):\n",
    "    if n == 0:\n",
    "        return False\n",
    "    elif n % 10 == 7:\n",
    "        return True\n",
    "    else:\n",
    "        return has_seven(n // 10)"
   ]
  },
  {
   "cell_type": "code",
   "execution_count": 78,
   "id": "a684be54-7dc3-45e1-93c4-30f85a990c08",
   "metadata": {},
   "outputs": [
    {
     "data": {
      "text/plain": [
       "3"
      ]
     },
     "execution_count": 78,
     "metadata": {},
     "output_type": "execute_result"
    }
   ],
   "source": [
    "sevens(3, 5)"
   ]
  },
  {
   "cell_type": "code",
   "execution_count": 73,
   "id": "d945a9e8-deca-41a8-853e-21686a88a858",
   "metadata": {},
   "outputs": [
    {
     "name": "stdout",
     "output_type": "stream",
     "text": [
      "1\n"
     ]
    }
   ],
   "source": [
    "print(1)"
   ]
  },
  {
   "cell_type": "code",
   "execution_count": null,
   "id": "94f955b3-4c63-4f05-9f3d-697933efd540",
   "metadata": {},
   "outputs": [],
   "source": []
  }
 ],
 "metadata": {
  "kernelspec": {
   "display_name": "Python 3 (ipykernel)",
   "language": "python",
   "name": "python3"
  },
  "language_info": {
   "codemirror_mode": {
    "name": "ipython",
    "version": 3
   },
   "file_extension": ".py",
   "mimetype": "text/x-python",
   "name": "python",
   "nbconvert_exporter": "python",
   "pygments_lexer": "ipython3",
   "version": "3.11.9"
  }
 },
 "nbformat": 4,
 "nbformat_minor": 5
}
